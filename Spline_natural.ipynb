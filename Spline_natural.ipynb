{
  "nbformat": 4,
  "nbformat_minor": 0,
  "metadata": {
    "colab": {
      "provenance": [],
      "authorship_tag": "ABX9TyP+p+EPdWrQ/jUMvmlkSpEC",
      "include_colab_link": true
    },
    "kernelspec": {
      "name": "python3",
      "display_name": "Python 3"
    },
    "language_info": {
      "name": "python"
    }
  },
  "cells": [
    {
      "cell_type": "markdown",
      "metadata": {
        "id": "view-in-github",
        "colab_type": "text"
      },
      "source": [
        "<a href=\"https://colab.research.google.com/github/gonzalezzayra/METODOS/blob/main/Spline_natural.ipynb\" target=\"_parent\"><img src=\"https://colab.research.google.com/assets/colab-badge.svg\" alt=\"Open In Colab\"/></a>"
      ]
    },
    {
      "cell_type": "code",
      "execution_count": null,
      "metadata": {
        "colab": {
          "base_uri": "https://localhost:8080/"
        },
        "id": "OGCtvScHevfO",
        "outputId": "3b9ad4e3-2eb0-4f6c-e51e-0e4e55a1fad9"
      },
      "outputs": [
        {
          "output_type": "stream",
          "name": "stdout",
          "text": [
            "Vectores de coeficientes:\n",
            "A= [2, 3]\n",
            "B= [0.0, 0.0]\n",
            "C= [0.0, 3.0]\n",
            "D= [1.0, -1.0]\n"
          ]
        }
      ],
      "source": [
        "from math import *\n",
        "\n",
        "def CubicSplines(datos):\n",
        "  n=len(datos)-1\n",
        "\n",
        "  A=[x[1] for x in datos]\n",
        "  X=[x[0] for x in datos]\n",
        "  H=[0.0 for x in range(n)]\n",
        "  B=[0.0 for x in range(n+1)]\n",
        "  C=[0.0 for x in range(n+1)]\n",
        "  D=[0.0 for x in range(n+1)]\n",
        "  alpha=[0.0 for x in range(n)]\n",
        "  mu=[0.0 for x in range(n+1)]\n",
        "  lo=[1.0 for x in range(n+1)]\n",
        "  z=[0.0 for x in range(n+1)]\n",
        "\n",
        "#Construcción H\n",
        "  for i in range(n):\n",
        "    H[i]=X[i+1]-X[i]\n",
        "\n",
        "#Construcción alpha\n",
        "  for i in range(1,n):\n",
        "    alpha[i]=(3/H[i])*(A[i+1]-A[i])-(3/H[i-1])*(A[i]-A[i-1])\n",
        "\n",
        "#Construcción del sistema\n",
        "  for i in range(1,n):\n",
        "    lo[i]=2*(X[i+1]-X[i-1])-H[i-1]*mu[i-1]\n",
        "    mu[i]=H[i]/lo[i]\n",
        "    z[i]=(alpha[i]-H[i-1]*z[i-1]/lo[i])\n",
        "\n",
        "#Construcción del sistema\n",
        "  for j in range(n-1,-1,-1):\n",
        "    C[j]=z[j]-mu[j]*C[j+1]\n",
        "    B[j]=(A[j+1]-A[j])/(H[j])-H[j]*(C[j+1]+2*C[j])/3\n",
        "    D[j]=(C[j+1]-C[j])/(3*H[j])\n",
        "\n",
        "#Retornar vectores A,B,C,D\n",
        "\n",
        "\n",
        "  return A[:-1],B[:-1],C[:-1],D[:-1]\n",
        "\n",
        "#Datos de Prueba\n",
        "\n",
        "datosPrueba=[(1, 2), (2, 3), (3, 5)]\n",
        "a, b, c, d=CubicSplines(datosPrueba)\n",
        "print(\"Vectores de coeficientes:\")\n",
        "print(\"A=\", a)\n",
        "print(\"B=\", b)\n",
        "print(\"C=\", c)\n",
        "print(\"D=\", d)"
      ]
    }
  ]
}