{
  "nbformat": 4,
  "nbformat_minor": 0,
  "metadata": {
    "colab": {
      "provenance": [],
      "authorship_tag": "ABX9TyNuluHmdqFpUDIum50JgP+K",
      "include_colab_link": true
    },
    "kernelspec": {
      "name": "python3",
      "display_name": "Python 3"
    },
    "language_info": {
      "name": "python"
    }
  },
  "cells": [
    {
      "cell_type": "markdown",
      "metadata": {
        "id": "view-in-github",
        "colab_type": "text"
      },
      "source": [
        "<a href=\"https://colab.research.google.com/github/gonzalezzayra/METODOS/blob/main/iteraci%C3%B3n.ipynb\" target=\"_parent\"><img src=\"https://colab.research.google.com/assets/colab-badge.svg\" alt=\"Open In Colab\"/></a>"
      ]
    },
    {
      "cell_type": "code",
      "execution_count": 1,
      "metadata": {
        "colab": {
          "base_uri": "https://localhost:8080/"
        },
        "id": "wz3Faq3DyA6h",
        "outputId": "c3991faa-adef-4241-8cf9-8de0193fec00"
      },
      "outputs": [
        {
          "output_type": "stream",
          "name": "stdout",
          "text": [
            "Pn\t\t G(pn-1) \t f(Pn)\n",
            "0 \t\t 1.0000 \t 1.0100\n",
            "1 \t\t 1.2599 \t 0.2599\n",
            "2 \t\t 1.3123 \t 0.0524\n",
            "3 \t\t 1.3224 \t 0.0101\n",
            "4 \t\t 1.3243 \t 0.0019\n",
            "Solución aproximada: 1.324268744551578\n",
            "Número de iteraciones: 4\n"
          ]
        }
      ],
      "source": [
        "def punto_fijo(g, x0, tol, max_iter):\n",
        "    x = x0\n",
        "    iter = 0\n",
        "    error = tol + 1\n",
        "    \n",
        "    print(\"Pn\\t\\t G(pn-1) \\t f(Pn)\")\n",
        "    print(\"{0} \\t\\t {1:6.4f} \\t {2:6.4f}\".format(iter, x, error))\n",
        "    while error > tol and iter < max_iter:\n",
        "        x_next = g(x)\n",
        "        error = abs(x_next - x)\n",
        "        x = x_next\n",
        "        iter += 1\n",
        "        print(\"{0} \\t\\t {1:6.4f} \\t {2:6.4f}\".format(iter, x_next, error))\n",
        "    return x, iter\n",
        "\n",
        "def g(x):\n",
        "    return (x+1)**(1/3)\n",
        "\n",
        "x0 = 1  # valor inicial de la iteración\n",
        "tol = 0.01  # tolerancia del error de la solución\n",
        "max_iter = 1000  # número máximo de iteraciones permitidas\n",
        "\n",
        "x, iter = punto_fijo(g, x0, tol, max_iter)\n",
        "\n",
        "print(f\"Solución aproximada: {x}\")\n",
        "print(f\"Número de iteraciones: {iter}\")"
      ]
    }
  ]
}